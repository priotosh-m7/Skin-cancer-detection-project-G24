{
 "cells": [
  {
   "cell_type": "code",
   "execution_count": 78,
   "metadata": {
    "collapsed": true
   },
   "outputs": [],
   "source": [
    "import tensorflow as tf\n",
    "from tensorflow.keras.preprocessing.image import ImageDataGenerator\n",
    "\n"
   ]
  },
  {
   "cell_type": "code",
   "execution_count": 79,
   "outputs": [
    {
     "data": {
      "text/plain": "'2.10.0'"
     },
     "execution_count": 79,
     "metadata": {},
     "output_type": "execute_result"
    }
   ],
   "source": [
    "tf.__version__"
   ],
   "metadata": {
    "collapsed": false
   }
  },
  {
   "cell_type": "code",
   "execution_count": 80,
   "outputs": [],
   "source": [
    "train_datagen = ImageDataGenerator(rescale = 1./255 , shear_range= 0.2 , zoom_range= 0.2, horizontal_flip=True)"
   ],
   "metadata": {
    "collapsed": false
   }
  },
  {
   "cell_type": "code",
   "execution_count": 81,
   "outputs": [
    {
     "name": "stdout",
     "output_type": "stream",
     "text": [
      "Found 7845 images belonging to 2 classes.\n",
      "Found 7845 images belonging to 2 classes.\n"
     ]
    }
   ],
   "source": [
    "training_set = train_datagen.flow_from_directory('C:\\\\SCDProject\\\\svmModel\\\\Pretraining', target_size=(64,64), batch_size=32 , class_mode='binary')\n",
    "\n",
    "test_datagen = ImageDataGenerator(rescale=1./255)\n",
    "test_set = test_datagen.flow_from_directory('C:\\\\SCDProject\\\\svmModel\\\\Pretraining', target_size=(64,64), batch_size=32 , class_mode='binary')"
   ],
   "metadata": {
    "collapsed": false
   }
  },
  {
   "cell_type": "code",
   "execution_count": 82,
   "outputs": [],
   "source": [
    "from tensorflow.keras.layers import Conv2D\n",
    "from tensorflow.keras.layers import Dense"
   ],
   "metadata": {
    "collapsed": false
   }
  },
  {
   "cell_type": "code",
   "execution_count": 83,
   "outputs": [],
   "source": [
    "from  tensorflow.keras.regularizers import l2"
   ],
   "metadata": {
    "collapsed": false
   }
  },
  {
   "cell_type": "code",
   "execution_count": 84,
   "outputs": [],
   "source": [
    "cnn = tf.keras.models.Sequential()\n",
    "\n",
    "# Step 1 - Convolution\n",
    "cnn.add(tf.keras.layers.Conv2D(filters=32,padding=\"same\",kernel_size=3, activation='relu', strides=2, input_shape=[64, 64, 3]))\n",
    "\n",
    "# Step 2 - Pooling\n",
    "cnn.add(tf.keras.layers.MaxPool2D(pool_size=2, strides=2))\n",
    "\n",
    "# Adding a second convolutional layer\n",
    "cnn.add(tf.keras.layers.Conv2D(filters=32,padding='same',kernel_size=3, activation='relu'))\n",
    "cnn.add(tf.keras.layers.MaxPool2D(pool_size=2, strides=2))\n",
    "\n",
    "# Step 3 - Flattening\n",
    "cnn.add(tf.keras.layers.Flatten())\n",
    "\n",
    "# Step 4 - Full Connection\n",
    "cnn.add(tf.keras.layers.Dense(units=128, activation='relu'))\n",
    "\n",
    "# Step 5 - Output Layer\n",
    "#cnn.add(tf.keras.layers.Dense(units=1, activation='sigmoid'))\n",
    "## For Binary Classification\n",
    "cnn.add(Dense(1, kernel_regularizer=tf.keras.regularizers.l2(0.01),activation\n",
    "             ='linear'))"
   ],
   "metadata": {
    "collapsed": false
   }
  },
  {
   "cell_type": "code",
   "execution_count": 85,
   "outputs": [
    {
     "name": "stdout",
     "output_type": "stream",
     "text": [
      "Model: \"sequential_2\"\n",
      "_________________________________________________________________\n",
      " Layer (type)                Output Shape              Param #   \n",
      "=================================================================\n",
      " conv2d_4 (Conv2D)           (None, 32, 32, 32)        896       \n",
      "                                                                 \n",
      " max_pooling2d_4 (MaxPooling  (None, 16, 16, 32)       0         \n",
      " 2D)                                                             \n",
      "                                                                 \n",
      " conv2d_5 (Conv2D)           (None, 16, 16, 32)        9248      \n",
      "                                                                 \n",
      " max_pooling2d_5 (MaxPooling  (None, 8, 8, 32)         0         \n",
      " 2D)                                                             \n",
      "                                                                 \n",
      " flatten_2 (Flatten)         (None, 2048)              0         \n",
      "                                                                 \n",
      " dense_4 (Dense)             (None, 128)               262272    \n",
      "                                                                 \n",
      " dense_5 (Dense)             (None, 1)                 129       \n",
      "                                                                 \n",
      "=================================================================\n",
      "Total params: 272,545\n",
      "Trainable params: 272,545\n",
      "Non-trainable params: 0\n",
      "_________________________________________________________________\n"
     ]
    }
   ],
   "source": [
    "cnn.summary()"
   ],
   "metadata": {
    "collapsed": false
   }
  },
  {
   "cell_type": "code",
   "execution_count": 86,
   "outputs": [
    {
     "name": "stdout",
     "output_type": "stream",
     "text": [
      "Epoch 1/35\n",
      "246/246 [==============================] - 99s 393ms/step - loss: 0.7560 - accuracy: 0.6670 - val_loss: 0.5845 - val_accuracy: 0.7722\n",
      "Epoch 2/35\n",
      "246/246 [==============================] - 77s 315ms/step - loss: 0.5315 - accuracy: 0.7509 - val_loss: 0.5038 - val_accuracy: 0.8023\n",
      "Epoch 3/35\n",
      "246/246 [==============================] - 82s 332ms/step - loss: 0.4911 - accuracy: 0.7669 - val_loss: 0.4488 - val_accuracy: 0.7901\n",
      "Epoch 4/35\n",
      "246/246 [==============================] - 79s 321ms/step - loss: 0.4626 - accuracy: 0.7808 - val_loss: 0.4527 - val_accuracy: 0.7995\n",
      "Epoch 5/35\n",
      "246/246 [==============================] - 77s 313ms/step - loss: 0.4452 - accuracy: 0.7901 - val_loss: 0.4682 - val_accuracy: 0.8186\n",
      "Epoch 6/35\n",
      "246/246 [==============================] - 77s 315ms/step - loss: 0.4254 - accuracy: 0.7987 - val_loss: 0.4127 - val_accuracy: 0.8280\n",
      "Epoch 7/35\n",
      "246/246 [==============================] - 82s 333ms/step - loss: 0.4116 - accuracy: 0.8073 - val_loss: 0.3920 - val_accuracy: 0.8361\n",
      "Epoch 8/35\n",
      "246/246 [==============================] - 88s 359ms/step - loss: 0.3994 - accuracy: 0.8119 - val_loss: 0.3755 - val_accuracy: 0.8316\n",
      "Epoch 9/35\n",
      "246/246 [==============================] - 83s 336ms/step - loss: 0.3847 - accuracy: 0.8192 - val_loss: 0.3752 - val_accuracy: 0.8052\n",
      "Epoch 10/35\n",
      "246/246 [==============================] - 79s 323ms/step - loss: 0.3851 - accuracy: 0.8219 - val_loss: 0.3583 - val_accuracy: 0.8226\n",
      "Epoch 11/35\n",
      "246/246 [==============================] - 79s 323ms/step - loss: 0.3727 - accuracy: 0.8247 - val_loss: 0.3493 - val_accuracy: 0.8519\n",
      "Epoch 12/35\n",
      "246/246 [==============================] - 75s 304ms/step - loss: 0.3692 - accuracy: 0.8268 - val_loss: 0.3454 - val_accuracy: 0.8294\n",
      "Epoch 13/35\n",
      "246/246 [==============================] - 76s 309ms/step - loss: 0.3652 - accuracy: 0.8259 - val_loss: 0.3405 - val_accuracy: 0.8465\n",
      "Epoch 14/35\n",
      "246/246 [==============================] - 82s 335ms/step - loss: 0.3589 - accuracy: 0.8291 - val_loss: 0.3433 - val_accuracy: 0.8328\n",
      "Epoch 15/35\n",
      "246/246 [==============================] - 76s 309ms/step - loss: 0.3616 - accuracy: 0.8265 - val_loss: 0.3340 - val_accuracy: 0.8326\n",
      "Epoch 16/35\n",
      "246/246 [==============================] - 77s 315ms/step - loss: 0.3462 - accuracy: 0.8354 - val_loss: 0.3330 - val_accuracy: 0.8294\n",
      "Epoch 17/35\n",
      "246/246 [==============================] - 76s 308ms/step - loss: 0.3481 - accuracy: 0.8366 - val_loss: 0.3273 - val_accuracy: 0.8340\n",
      "Epoch 18/35\n",
      "246/246 [==============================] - 83s 339ms/step - loss: 0.3355 - accuracy: 0.8426 - val_loss: 0.4365 - val_accuracy: 0.8514\n",
      "Epoch 19/35\n",
      "246/246 [==============================] - 86s 350ms/step - loss: 0.3395 - accuracy: 0.8417 - val_loss: 0.3162 - val_accuracy: 0.8455\n",
      "Epoch 20/35\n",
      "246/246 [==============================] - 90s 368ms/step - loss: 0.3329 - accuracy: 0.8433 - val_loss: 0.3040 - val_accuracy: 0.8665\n",
      "Epoch 21/35\n",
      "246/246 [==============================] - 79s 321ms/step - loss: 0.3232 - accuracy: 0.8491 - val_loss: 0.2953 - val_accuracy: 0.8504\n",
      "Epoch 22/35\n",
      "246/246 [==============================] - 77s 313ms/step - loss: 0.3224 - accuracy: 0.8495 - val_loss: 0.2994 - val_accuracy: 0.8762\n",
      "Epoch 23/35\n",
      "246/246 [==============================] - 75s 304ms/step - loss: 0.3152 - accuracy: 0.8507 - val_loss: 0.3117 - val_accuracy: 0.8386\n",
      "Epoch 24/35\n",
      "246/246 [==============================] - 75s 305ms/step - loss: 0.3177 - accuracy: 0.8495 - val_loss: 0.2898 - val_accuracy: 0.8529\n",
      "Epoch 25/35\n",
      "246/246 [==============================] - 79s 320ms/step - loss: 0.3077 - accuracy: 0.8547 - val_loss: 0.2881 - val_accuracy: 0.8620\n",
      "Epoch 26/35\n",
      "246/246 [==============================] - 75s 305ms/step - loss: 0.3139 - accuracy: 0.8542 - val_loss: 0.2887 - val_accuracy: 0.8470\n",
      "Epoch 27/35\n",
      "246/246 [==============================] - 75s 307ms/step - loss: 0.3058 - accuracy: 0.8588 - val_loss: 0.2684 - val_accuracy: 0.8739\n",
      "Epoch 28/35\n",
      "246/246 [==============================] - 78s 316ms/step - loss: 0.3017 - accuracy: 0.8571 - val_loss: 0.2736 - val_accuracy: 0.8678\n",
      "Epoch 29/35\n",
      "246/246 [==============================] - 81s 330ms/step - loss: 0.2997 - accuracy: 0.8599 - val_loss: 0.2926 - val_accuracy: 0.8428\n",
      "Epoch 30/35\n",
      "246/246 [==============================] - 80s 324ms/step - loss: 0.2901 - accuracy: 0.8656 - val_loss: 0.2604 - val_accuracy: 0.8686\n",
      "Epoch 31/35\n",
      "246/246 [==============================] - 91s 372ms/step - loss: 0.2953 - accuracy: 0.8621 - val_loss: 0.2617 - val_accuracy: 0.8892\n",
      "Epoch 32/35\n",
      "246/246 [==============================] - 78s 317ms/step - loss: 0.2944 - accuracy: 0.8599 - val_loss: 0.2641 - val_accuracy: 0.8803\n",
      "Epoch 33/35\n",
      "246/246 [==============================] - 80s 324ms/step - loss: 0.2891 - accuracy: 0.8642 - val_loss: 0.2703 - val_accuracy: 0.8880\n",
      "Epoch 34/35\n",
      "246/246 [==============================] - 76s 310ms/step - loss: 0.2991 - accuracy: 0.8609 - val_loss: 0.2809 - val_accuracy: 0.8967\n",
      "Epoch 35/35\n",
      "246/246 [==============================] - 73s 297ms/step - loss: 0.2834 - accuracy: 0.8695 - val_loss: 0.2421 - val_accuracy: 0.8956\n"
     ]
    }
   ],
   "source": [
    "# Part 3 - Training the CNN\n",
    "\n",
    "# Compiling the CNN\n",
    "cnn.compile(optimizer = 'adam', loss = 'hinge', metrics = ['accuracy'])\n",
    "\n",
    "# Training the CNN on the Training set and evaluating it on the Test set\n",
    "r=cnn.fit(x = training_set, validation_data = test_set, epochs = 35)"
   ],
   "metadata": {
    "collapsed": false
   }
  },
  {
   "cell_type": "code",
   "execution_count": 87,
   "outputs": [
    {
     "data": {
      "text/plain": "<Figure size 640x480 with 1 Axes>",
      "image/png": "[encoded data removed]"
     },
     "metadata": {},
     "output_type": "display_data"
    },
    {
     "data": {
      "text/plain": "<Figure size 640x480 with 1 Axes>",
      "image/png": "[encoded data removed]"
     },
     "metadata": {},
     "output_type": "display_data"
    },
    {
     "data": {
      "text/plain": "<Figure size 640x480 with 0 Axes>"
     },
     "metadata": {},
     "output_type": "display_data"
    }
   ],
   "source": [
    "import matplotlib.pyplot as plt\n",
    "plt.plot(r.history['loss'], label='train loss')\n",
    "plt.plot(r.history['val_loss'], label='val loss')\n",
    "plt.legend()\n",
    "plt.show()\n",
    "plt.savefig('LossVal_loss')\n",
    "\n",
    "# plot the accuracy\n",
    "plt.plot(r.history['accuracy'], label='train acc')\n",
    "plt.plot(r.history['val_accuracy'], label='val acc')\n",
    "plt.legend()\n",
    "plt.show()\n",
    "plt.savefig('AccVal_acc')"
   ],
   "metadata": {
    "collapsed": false
   }
  },
  {
   "cell_type": "code",
   "execution_count": 88,
   "outputs": [
    {
     "name": "stdout",
     "output_type": "stream",
     "text": [
      "Model: \"sequential_2\"\n",
      "_________________________________________________________________\n",
      " Layer (type)                Output Shape              Param #   \n",
      "=================================================================\n",
      " conv2d_4 (Conv2D)           (None, 32, 32, 32)        896       \n",
      "                                                                 \n",
      " max_pooling2d_4 (MaxPooling  (None, 16, 16, 32)       0         \n",
      " 2D)                                                             \n",
      "                                                                 \n",
      " conv2d_5 (Conv2D)           (None, 16, 16, 32)        9248      \n",
      "                                                                 \n",
      " max_pooling2d_5 (MaxPooling  (None, 8, 8, 32)         0         \n",
      " 2D)                                                             \n",
      "                                                                 \n",
      " flatten_2 (Flatten)         (None, 2048)              0         \n",
      "                                                                 \n",
      " dense_4 (Dense)             (None, 128)               262272    \n",
      "                                                                 \n",
      " dense_5 (Dense)             (None, 1)                 129       \n",
      "                                                                 \n",
      "=================================================================\n",
      "Total params: 272,545\n",
      "Trainable params: 272,545\n",
      "Non-trainable params: 0\n",
      "_________________________________________________________________\n"
     ]
    }
   ],
   "source": [
    "from tensorflow.keras.models import load_model\n",
    "\n",
    "cnn.save('model_bcc_mel.h5')\n",
    "from tensorflow.keras.models import load_model\n",
    "\n",
    "# load model\n",
    "model = load_model('model_bcc_mel.h5')\n",
    "model.summary()"
   ],
   "metadata": {
    "collapsed": false
   }
  },
  {
   "cell_type": "code",
   "execution_count": 101,
   "outputs": [
    {
     "name": "stdout",
     "output_type": "stream",
     "text": [
      "1/1 [==============================] - 1s 630ms/step\n",
      "[[-1.2511702]]\n",
      "1/1 [==============================] - 0s 89ms/step\n",
      "[[0.13228619]]\n",
      "1/1 [==============================] - 0s 73ms/step\n",
      "[[-1.2174923]]\n",
      "1/1 [==============================] - 0s 81ms/step\n",
      "[[-1.076596]]\n",
      "1/1 [==============================] - 0s 301ms/step\n",
      "[[-0.47689474]]\n",
      "1/1 [==============================] - 0s 156ms/step\n",
      "[[-1.4833018]]\n",
      "1/1 [==============================] - 0s 117ms/step\n",
      "[[-0.32221863]]\n",
      "1/1 [==============================] - 0s 161ms/step\n",
      "[[0.7642344]]\n",
      "1/1 [==============================] - 0s 104ms/step\n",
      "[[-1.5358799]]\n",
      "1/1 [==============================] - 0s 86ms/step\n",
      "[[-1.1167624]]\n",
      "1/1 [==============================] - 0s 73ms/step\n",
      "[[-1.0546975]]\n",
      "1/1 [==============================] - 0s 57ms/step\n",
      "[[0.9637997]]\n",
      "1/1 [==============================] - 0s 49ms/step\n",
      "[[-1.185159]]\n",
      "1/1 [==============================] - 0s 48ms/step\n",
      "[[1.6664317]]\n",
      "1/1 [==============================] - 0s 53ms/step\n",
      "[[-1.4472232]]\n",
      "1/1 [==============================] - 0s 51ms/step\n",
      "[[-0.6907618]]\n",
      "1/1 [==============================] - 0s 49ms/step\n",
      "[[-1.0342205]]\n",
      "1/1 [==============================] - 0s 53ms/step\n",
      "[[0.7074453]]\n",
      "1/1 [==============================] - 0s 45ms/step\n",
      "[[-1.4621736]]\n",
      "1/1 [==============================] - 0s 53ms/step\n",
      "[[-1.4294361]]\n",
      "1/1 [==============================] - 0s 63ms/step\n",
      "[[-1.170507]]\n",
      "1/1 [==============================] - 0s 48ms/step\n",
      "[[-1.1772435]]\n",
      "1/1 [==============================] - 0s 61ms/step\n",
      "[[-1.2829694]]\n",
      "1/1 [==============================] - 0s 56ms/step\n",
      "[[-1.3165919]]\n",
      "1/1 [==============================] - 0s 46ms/step\n",
      "[[-1.2889926]]\n",
      "1/1 [==============================] - 0s 63ms/step\n",
      "[[-1.281962]]\n",
      "1/1 [==============================] - 0s 77ms/step\n",
      "[[-1.2095822]]\n",
      "1/1 [==============================] - 0s 61ms/step\n",
      "[[1.317494]]\n",
      "1/1 [==============================] - 0s 51ms/step\n",
      "[[-0.4384418]]\n",
      "1/1 [==============================] - 0s 108ms/step\n",
      "[[-1.3223435]]\n",
      "1/1 [==============================] - 0s 117ms/step\n",
      "[[-1.3825725]]\n",
      "1/1 [==============================] - 0s 120ms/step\n",
      "[[-1.3627927]]\n",
      "1/1 [==============================] - 0s 220ms/step\n",
      "[[-1.2776551]]\n",
      "1/1 [==============================] - 0s 139ms/step\n",
      "[[-1.8257871]]\n",
      "1/1 [==============================] - 0s 97ms/step\n",
      "[[-1.372752]]\n",
      "1/1 [==============================] - 0s 51ms/step\n",
      "[[-1.2339227]]\n",
      "1/1 [==============================] - 0s 47ms/step\n",
      "[[-0.26543826]]\n",
      "1/1 [==============================] - 0s 51ms/step\n",
      "[[-1.362995]]\n",
      "1/1 [==============================] - 0s 60ms/step\n",
      "[[-1.2957941]]\n",
      "1/1 [==============================] - 0s 46ms/step\n",
      "[[0.00047466]]\n",
      "1/1 [==============================] - 0s 53ms/step\n",
      "[[-1.0530827]]\n",
      "1/1 [==============================] - 0s 70ms/step\n",
      "[[-1.3341838]]\n",
      "1/1 [==============================] - 0s 45ms/step\n",
      "[[-1.2499702]]\n",
      "1/1 [==============================] - 0s 57ms/step\n",
      "[[-1.4366657]]\n",
      "1/1 [==============================] - 0s 71ms/step\n",
      "[[-1.2224627]]\n",
      "1/1 [==============================] - 0s 50ms/step\n",
      "[[-1.3184798]]\n",
      "1/1 [==============================] - 0s 58ms/step\n",
      "[[-1.2407619]]\n",
      "1/1 [==============================] - 0s 32ms/step\n",
      "[[-1.1955943]]\n",
      "1/1 [==============================] - 0s 37ms/step\n",
      "[[-1.3077574]]\n",
      "1/1 [==============================] - 0s 41ms/step\n",
      "[[-1.1041188]]\n",
      "1/1 [==============================] - 0s 39ms/step\n",
      "[[-1.2687682]]\n",
      "1/1 [==============================] - 0s 45ms/step\n",
      "[[-1.4769372]]\n",
      "1/1 [==============================] - 0s 41ms/step\n",
      "[[-1.4153388]]\n",
      "1/1 [==============================] - 0s 48ms/step\n",
      "[[-0.58591413]]\n",
      "1/1 [==============================] - 0s 81ms/step\n",
      "[[-1.2604398]]\n",
      "1/1 [==============================] - 0s 65ms/step\n",
      "[[-1.2761024]]\n",
      "1/1 [==============================] - 0s 56ms/step\n",
      "[[-1.2672901]]\n",
      "1/1 [==============================] - 0s 75ms/step\n",
      "[[-1.1313505]]\n",
      "1/1 [==============================] - 0s 108ms/step\n",
      "[[-1.2312768]]\n",
      "1/1 [==============================] - 0s 51ms/step\n",
      "[[-0.2318747]]\n",
      "1/1 [==============================] - 0s 74ms/step\n",
      "[[-1.3536304]]\n",
      "1/1 [==============================] - 0s 46ms/step\n",
      "[[-1.0987291]]\n",
      "1/1 [==============================] - 0s 79ms/step\n",
      "[[-0.19395643]]\n",
      "1/1 [==============================] - 0s 45ms/step\n",
      "[[-1.24523]]\n",
      "1/1 [==============================] - 0s 86ms/step\n",
      "[[1.2823529]]\n",
      "1/1 [==============================] - 0s 61ms/step\n",
      "[[-1.2660079]]\n",
      "1/1 [==============================] - 0s 46ms/step\n",
      "[[-0.0253572]]\n",
      "1/1 [==============================] - 0s 59ms/step\n",
      "[[-0.63408387]]\n",
      "1/1 [==============================] - 0s 99ms/step\n",
      "[[-1.3729477]]\n",
      "1/1 [==============================] - 0s 73ms/step\n",
      "[[-1.4521025]]\n",
      "1/1 [==============================] - 0s 64ms/step\n",
      "[[-1.4686829]]\n",
      "1/1 [==============================] - 0s 68ms/step\n",
      "[[-0.58917016]]\n",
      "1/1 [==============================] - 0s 90ms/step\n",
      "[[-1.1252038]]\n",
      "1/1 [==============================] - 0s 98ms/step\n",
      "[[-1.3802512]]\n",
      "1/1 [==============================] - 0s 55ms/step\n",
      "[[-1.432639]]\n",
      "1/1 [==============================] - 0s 73ms/step\n",
      "[[-0.8444999]]\n",
      "1/1 [==============================] - 0s 106ms/step\n",
      "[[1.5321797]]\n",
      "1/1 [==============================] - 0s 44ms/step\n",
      "[[-0.71365094]]\n",
      "1/1 [==============================] - 0s 43ms/step\n",
      "[[-1.261772]]\n",
      "1/1 [==============================] - 0s 56ms/step\n",
      "[[-1.1370994]]\n",
      "1/1 [==============================] - 0s 37ms/step\n",
      "[[-1.2249327]]\n",
      "1/1 [==============================] - 0s 34ms/step\n",
      "[[-1.6319373]]\n",
      "1/1 [==============================] - 0s 69ms/step\n",
      "[[-0.8198342]]\n",
      "1/1 [==============================] - 0s 44ms/step\n",
      "[[-1.2394469]]\n",
      "1/1 [==============================] - 0s 32ms/step\n",
      "[[-0.18829125]]\n",
      "1/1 [==============================] - 0s 106ms/step\n",
      "[[1.912601]]\n",
      "1/1 [==============================] - 0s 62ms/step\n",
      "[[-1.2293503]]\n",
      "1/1 [==============================] - 0s 39ms/step\n",
      "[[-1.0803337]]\n",
      "1/1 [==============================] - 0s 38ms/step\n",
      "[[-1.5476465]]\n",
      "1/1 [==============================] - 0s 35ms/step\n",
      "[[-0.79159135]]\n",
      "1/1 [==============================] - 0s 39ms/step\n",
      "[[-0.79691374]]\n",
      "1/1 [==============================] - 0s 38ms/step\n",
      "[[-1.5721366]]\n",
      "1/1 [==============================] - 0s 64ms/step\n",
      "[[-1.265009]]\n",
      "1/1 [==============================] - 0s 130ms/step\n",
      "[[-1.4436932]]\n",
      "1/1 [==============================] - 0s 32ms/step\n",
      "[[-1.196709]]\n",
      "1/1 [==============================] - 0s 42ms/step\n",
      "[[1.6498395]]\n",
      "1/1 [==============================] - 0s 104ms/step\n",
      "[[-1.1674372]]\n",
      "1/1 [==============================] - 0s 76ms/step\n",
      "[[1.5061846]]\n",
      "1/1 [==============================] - 0s 33ms/step\n",
      "[[-1.0001574]]\n",
      "1/1 [==============================] - 0s 43ms/step\n",
      "[[-1.2764212]]\n",
      "1/1 [==============================] - 0s 37ms/step\n",
      "[[-0.09961362]]\n",
      "1/1 [==============================] - 0s 38ms/step\n",
      "[[-1.3426919]]\n",
      "1/1 [==============================] - 0s 39ms/step\n",
      "[[-1.2888156]]\n",
      "1/1 [==============================] - 0s 45ms/step\n",
      "[[1.7660303]]\n",
      "1/1 [==============================] - 0s 42ms/step\n",
      "[[-1.23026]]\n",
      "1/1 [==============================] - 0s 39ms/step\n",
      "[[-1.4032838]]\n",
      "1/1 [==============================] - 0s 35ms/step\n",
      "[[-1.252493]]\n",
      "1/1 [==============================] - 0s 45ms/step\n",
      "[[2.2288668]]\n",
      "1/1 [==============================] - 0s 40ms/step\n",
      "[[-0.1694943]]\n",
      "1/1 [==============================] - 0s 39ms/step\n",
      "[[-1.507392]]\n",
      "1/1 [==============================] - 0s 61ms/step\n",
      "[[-1.2822189]]\n",
      "1/1 [==============================] - 0s 44ms/step\n",
      "[[-0.08817662]]\n",
      "1/1 [==============================] - 0s 38ms/step\n",
      "[[-1.2300982]]\n",
      "1/1 [==============================] - 0s 53ms/step\n",
      "[[-1.1096871]]\n",
      "1/1 [==============================] - 0s 93ms/step\n",
      "[[-1.170294]]\n",
      "1/1 [==============================] - 0s 37ms/step\n",
      "[[-0.29727846]]\n",
      "1/1 [==============================] - 0s 36ms/step\n",
      "[[-1.2165467]]\n",
      "1/1 [==============================] - 0s 62ms/step\n",
      "[[-1.4896282]]\n",
      "1/1 [==============================] - 0s 44ms/step\n",
      "[[0.06202632]]\n",
      "1/1 [==============================] - 0s 54ms/step\n",
      "[[-1.2670091]]\n",
      "1/1 [==============================] - 0s 47ms/step\n",
      "[[-0.5758947]]\n",
      "1/1 [==============================] - 0s 32ms/step\n",
      "[[-1.323295]]\n",
      "1/1 [==============================] - 0s 56ms/step\n",
      "[[-0.97243625]]\n",
      "1/1 [==============================] - 0s 71ms/step\n",
      "[[-0.74086004]]\n",
      "1/1 [==============================] - 0s 36ms/step\n",
      "[[-1.3970726]]\n",
      "1/1 [==============================] - 0s 33ms/step\n",
      "[[-0.38425845]]\n",
      "1/1 [==============================] - 0s 43ms/step\n",
      "[[-1.3679825]]\n",
      "1/1 [==============================] - 0s 35ms/step\n",
      "[[-1.380191]]\n",
      "1/1 [==============================] - 0s 44ms/step\n",
      "[[-0.8003638]]\n",
      "1/1 [==============================] - 0s 39ms/step\n",
      "[[-0.8747006]]\n",
      "1/1 [==============================] - 0s 49ms/step\n",
      "[[-0.8376205]]\n",
      "1/1 [==============================] - 0s 43ms/step\n",
      "[[-1.0594251]]\n",
      "1/1 [==============================] - 0s 49ms/step\n",
      "[[-1.1797302]]\n",
      "1/1 [==============================] - 0s 46ms/step\n",
      "[[2.3282268]]\n",
      "1/1 [==============================] - 0s 50ms/step\n",
      "[[-0.08337224]]\n",
      "1/1 [==============================] - 0s 35ms/step\n",
      "[[-1.2219944]]\n",
      "1/1 [==============================] - 0s 34ms/step\n",
      "[[-1.3522059]]\n",
      "1/1 [==============================] - 0s 38ms/step\n",
      "[[-1.6608875]]\n",
      "1/1 [==============================] - 0s 37ms/step\n",
      "[[-1.2367222]]\n",
      "1/1 [==============================] - 0s 49ms/step\n",
      "[[-0.76921993]]\n",
      "1/1 [==============================] - 0s 45ms/step\n",
      "[[-1.2507296]]\n",
      "1/1 [==============================] - 0s 79ms/step\n",
      "[[-1.2807828]]\n",
      "1/1 [==============================] - 0s 44ms/step\n",
      "[[-1.2095464]]\n",
      "1/1 [==============================] - 0s 47ms/step\n",
      "[[-1.1104047]]\n",
      "1/1 [==============================] - 0s 36ms/step\n",
      "[[-1.3566376]]\n",
      "1/1 [==============================] - 0s 79ms/step\n",
      "[[-1.2512751]]\n",
      "1/1 [==============================] - 0s 38ms/step\n",
      "[[-1.0522149]]\n",
      "1/1 [==============================] - 0s 42ms/step\n",
      "[[4.7686396]]\n",
      "1/1 [==============================] - 0s 82ms/step\n",
      "[[-1.2759559]]\n",
      "1/1 [==============================] - 0s 47ms/step\n",
      "[[-1.3489417]]\n"
     ]
    }
   ],
   "source": [
    "import numpy as np\n",
    "from tensorflow.keras.preprocessing import image\n",
    "import os\n",
    "path = 'C:\\SCDProject\\svmModel\\Pretraining\\BCC'\n",
    "j = 0\n",
    "pos = 0\n",
    "neg = 0\n",
    "for i in os.listdir(path):\n",
    "    test_image = image.load_img(path+'\\\\'+i, target_size = (64,64))\n",
    "    test_image = image.img_to_array(test_image)\n",
    "    test_image=test_image/255\n",
    "    test_image = np.expand_dims(test_image, axis = 0)\n",
    "    result = model.predict(test_image)\n",
    "    print(result)\n",
    "    if result<0:\n",
    "        neg = neg+1\n",
    "    else:\n",
    "        pos = pos+1\n",
    "    j = j+1\n",
    "    if(j==150):\n",
    "        break\n",
    "\n"
   ],
   "metadata": {
    "collapsed": false
   }
  },
  {
   "cell_type": "code",
   "execution_count": 66,
   "outputs": [
    {
     "data": {
      "text/plain": "array([[5.0460787]], dtype=float32)"
     },
     "execution_count": 66,
     "metadata": {},
     "output_type": "execute_result"
    }
   ],
   "source": [
    "result"
   ],
   "metadata": {
    "collapsed": false
   }
  },
  {
   "cell_type": "code",
   "execution_count": 102,
   "outputs": [
    {
     "name": "stdout",
     "output_type": "stream",
     "text": [
      "17\n"
     ]
    }
   ],
   "source": [
    "print(pos)"
   ],
   "metadata": {
    "collapsed": false
   }
  },
  {
   "cell_type": "code",
   "execution_count": 103,
   "outputs": [
    {
     "name": "stdout",
     "output_type": "stream",
     "text": [
      "133\n"
     ]
    }
   ],
   "source": [
    "print(neg)"
   ],
   "metadata": {
    "collapsed": false
   }
  },
  {
   "cell_type": "code",
   "execution_count": null,
   "outputs": [],
   "source": [],
   "metadata": {
    "collapsed": false
   }
  }
 ],
 "metadata": {
  "kernelspec": {
   "display_name": "Python 3",
   "language": "python",
   "name": "python3"
  },
  "language_info": {
   "codemirror_mode": {
    "name": "ipython",
    "version": 2
   },
   "file_extension": ".py",
   "mimetype": "text/x-python",
   "name": "python",
   "nbconvert_exporter": "python",
   "pygments_lexer": "ipython2",
   "version": "2.7.6"
  }
 },
 "nbformat": 4,
 "nbformat_minor": 0
}
